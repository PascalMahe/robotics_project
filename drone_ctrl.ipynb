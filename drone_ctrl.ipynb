{
 "cells": [
  {
   "cell_type": "code",
   "execution_count": null,
   "metadata": {},
   "outputs": [],
   "source": [
    "import socket, time\n",
    "from time import sleep\n",
    "\n",
    "import netifaces"
   ]
  },
  {
   "cell_type": "markdown",
   "metadata": {},
   "source": [
    "Utility to check that we're connected to the right drone(s)"
   ]
  },
  {
   "cell_type": "code",
   "execution_count": null,
   "metadata": {},
   "outputs": [],
   "source": [
    "def get_wifi_network_name():\n",
    "    # Get a list of all network interfaces\n",
    "    interfaces = netifaces.interfaces()\n",
    "    \n",
    "    # Iterate through each interface to find the one that is connected to WiFi\n",
    "    for interface in interfaces:\n",
    "        try:\n",
    "            # Get the addresses of the interface\n",
    "            addresses = netifaces.ifaddresses(interface)\n",
    "            \n",
    "            # Check if the interface has an AF_INET (IPv4) address\n",
    "            if netifaces.AF_INET in addresses:\n",
    "                # Get the details of the IPv4 address\n",
    "                ipv4_info = addresses[netifaces.AF_INET][0]\n",
    "                \n",
    "                # Check if the interface has a 'wireless' key (indicating it's a WiFi interface)\n",
    "                if 'wireless' in ipv4_info:\n",
    "                    # Get the network name (ESSID) of the WiFi network\n",
    "                    wifi_network_name = ipv4_info.get('essid')\n",
    "                    if wifi_network_name:\n",
    "                        return wifi_network_name\n",
    "        except ValueError:\n",
    "            pass\n",
    "\n",
    "    return None\n",
    "\n",
    "# Get the WiFi network name\n",
    "wifi_network_name = get_wifi_network_name()\n",
    "\n",
    "if wifi_network_name:\n",
    "    print(f\"Connected to WiFi network: {wifi_network_name}\")\n",
    "else:\n",
    "    print(\"Not connected to any WiFi network.\")"
   ]
  },
  {
   "cell_type": "markdown",
   "metadata": {},
   "source": [
    "Connect"
   ]
  },
  {
   "cell_type": "code",
   "execution_count": null,
   "metadata": {},
   "outputs": [],
   "source": [
    "wifi_name = \"TELLO-95599\"\n",
    "current_network = get_wifi_network_name()\n",
    "if current_network == wifi_name:\n",
    "    host = '192.168.10.2'\n",
    "    port_cmd = 8891\n",
    "    locaddr_cmd = (host, port_cmd)\n",
    "    sock_cmd = socket.socket(socket.AF_INET, socket.SOCK_DGRAM)\n",
    "    tello_address_cmd = ('192.168.10.1', 8889)\n",
    "    sock_cmd.bind(locaddr_cmd)\n",
    "else:\n",
    "    raise RuntimeError(\"Connected to wrong network.\")"
   ]
  },
  {
   "cell_type": "code",
   "execution_count": null,
   "metadata": {},
   "outputs": [],
   "source": [
    "def do_command (cmd) :\n",
    "    # Envoyer la commande\n",
    "    sock_cmd.sendto(cmd.encode(encoding=\"utf-8\"), tello_address_cmd)\n",
    "    data, server = sock_cmd.recvfrom(1518)\n",
    "    # Récupérer l'information de la batterie\n",
    "    # print(data)\n",
    "    valeur_battery = data.decode(encoding=\"latin-1\")\n",
    "    if valeur_battery == \"ok\":\n",
    "        return 0\n",
    "    else:\n",
    "        return valeur_battery.replace(\"\\r\\n\", \"\")"
   ]
  },
  {
   "cell_type": "code",
   "execution_count": null,
   "metadata": {},
   "outputs": [],
   "source": [
    "retour = do_command (\"command\")\n",
    "print(f\"Tried 'command', got: {retour}\")"
   ]
  },
  {
   "cell_type": "code",
   "execution_count": null,
   "metadata": {},
   "outputs": [],
   "source": [
    "retour = do_command (\"takeoff\")\n",
    "print(f\"Tried 'takeoff', got: {retour}\")"
   ]
  },
  {
   "cell_type": "markdown",
   "metadata": {},
   "source": [
    "Actions"
   ]
  },
  {
   "cell_type": "code",
   "execution_count": null,
   "metadata": {},
   "outputs": [],
   "source": [
    "# monte de 60 cm\n",
    "retour = do_command (\"up 60\")\n",
    "print(f\"Tried 'up 60', got: {retour}\")"
   ]
  },
  {
   "cell_type": "code",
   "execution_count": null,
   "metadata": {},
   "outputs": [],
   "source": [
    "# descend de 60 cm\n",
    "retour = do_command(\"down 60\")\n",
    "print(f\"Retour de 'down 60': {retour}\")"
   ]
  },
  {
   "cell_type": "code",
   "execution_count": null,
   "metadata": {},
   "outputs": [],
   "source": [
    "# avance de 60 cm\n",
    "retour = do_command(\"forward 60\")\n",
    "print(f\"Retour de 'forward 60': {retour}\")"
   ]
  },
  {
   "cell_type": "code",
   "execution_count": null,
   "metadata": {},
   "outputs": [],
   "source": [
    "# recule de 60 cm\n",
    "retour = do_command(\"back 60\")\n",
    "print(f\"Retour de 'back 60': {retour}\")"
   ]
  },
  {
   "cell_type": "code",
   "execution_count": null,
   "metadata": {},
   "outputs": [],
   "source": [
    "# se déplace à gauche de 60 cm\n",
    "retour = do_command(\"left 60\")\n",
    "print(f\"Retour de 'left 60': {retour}\")"
   ]
  },
  {
   "cell_type": "code",
   "execution_count": null,
   "metadata": {},
   "outputs": [],
   "source": [
    "# se déplace à droite de 60 cm\n",
    "retour = do_command(\"right 60\")\n",
    "print(f\"Retour de 'right 60': {retour}\")"
   ]
  },
  {
   "cell_type": "code",
   "execution_count": null,
   "metadata": {},
   "outputs": [],
   "source": [
    "# quart de tour à droite\n",
    "retour = do_command(\"cw 90\")\n",
    "print(f\"Retour de 'cw 90': {retour}\")"
   ]
  },
  {
   "cell_type": "code",
   "execution_count": null,
   "metadata": {},
   "outputs": [],
   "source": [
    "# quart de tour à gauche\n",
    "retour = do_command(\"ccw 90\")\n",
    "print(f\"Retour de 'ccw 90': {retour}\")"
   ]
  },
  {
   "cell_type": "code",
   "execution_count": null,
   "metadata": {},
   "outputs": [],
   "source": [
    "# demi de tour à gauche\n",
    "retour = do_command(\"ccw 90\")\n",
    "print(f\"Retour de 'ccw 90': {retour}\")"
   ]
  },
  {
   "cell_type": "code",
   "execution_count": null,
   "metadata": {},
   "outputs": [],
   "source": [
    "# demi de tour à droite\n",
    "retour = do_command(\"cw 90\")\n",
    "print(f\"Retour de 'cw 90': {retour}\")"
   ]
  },
  {
   "cell_type": "markdown",
   "metadata": {},
   "source": [
    "Disconnect"
   ]
  },
  {
   "cell_type": "code",
   "execution_count": null,
   "metadata": {},
   "outputs": [],
   "source": [
    "retour = do_command (\"land\")\n",
    "print(f\"Retour de 'land': {retour}\")\n",
    "sock_cmd.close()"
   ]
  }
 ],
 "metadata": {
  "language_info": {
   "name": "python"
  }
 },
 "nbformat": 4,
 "nbformat_minor": 2
}
